{
  "nbformat": 4,
  "nbformat_minor": 0,
  "metadata": {
    "colab": {
      "provenance": [],
      "authorship_tag": "ABX9TyOFbH8XmfnrtzzasVDKAg2Q",
      "include_colab_link": true
    },
    "kernelspec": {
      "name": "python3",
      "display_name": "Python 3"
    },
    "language_info": {
      "name": "python"
    }
  },
  "cells": [
    {
      "cell_type": "markdown",
      "metadata": {
        "id": "view-in-github",
        "colab_type": "text"
      },
      "source": [
        "<a href=\"https://colab.research.google.com/github/amany-adel/Amazon-Sales-Data-Analytics-Task/blob/main/Dasboard.ipynb\" target=\"_parent\"><img src=\"https://colab.research.google.com/assets/colab-badge.svg\" alt=\"Open In Colab\"/></a>"
      ]
    },
    {
      "cell_type": "code",
      "execution_count": 51,
      "metadata": {
        "colab": {
          "base_uri": "https://localhost:8080/"
        },
        "id": "Ry3beSq1Q3-L",
        "outputId": "cf1c21e2-353e-4fac-f8de-4fa42335ced2"
      },
      "outputs": [
        {
          "output_type": "stream",
          "name": "stdout",
          "text": [
            "Requirement already satisfied: dash in /usr/local/lib/python3.10/dist-packages (2.17.1)\n",
            "Requirement already satisfied: dash-bootstrap-components in /usr/local/lib/python3.10/dist-packages (1.6.0)\n",
            "Requirement already satisfied: plotly in /usr/local/lib/python3.10/dist-packages (5.15.0)\n",
            "Requirement already satisfied: Flask<3.1,>=1.0.4 in /usr/local/lib/python3.10/dist-packages (from dash) (2.2.5)\n",
            "Requirement already satisfied: Werkzeug<3.1 in /usr/local/lib/python3.10/dist-packages (from dash) (3.0.3)\n",
            "Requirement already satisfied: dash-html-components==2.0.0 in /usr/local/lib/python3.10/dist-packages (from dash) (2.0.0)\n",
            "Requirement already satisfied: dash-core-components==2.0.0 in /usr/local/lib/python3.10/dist-packages (from dash) (2.0.0)\n",
            "Requirement already satisfied: dash-table==5.0.0 in /usr/local/lib/python3.10/dist-packages (from dash) (5.0.0)\n",
            "Requirement already satisfied: importlib-metadata in /usr/local/lib/python3.10/dist-packages (from dash) (7.1.0)\n",
            "Requirement already satisfied: typing-extensions>=4.1.1 in /usr/local/lib/python3.10/dist-packages (from dash) (4.12.2)\n",
            "Requirement already satisfied: requests in /usr/local/lib/python3.10/dist-packages (from dash) (2.31.0)\n",
            "Requirement already satisfied: retrying in /usr/local/lib/python3.10/dist-packages (from dash) (1.3.4)\n",
            "Requirement already satisfied: nest-asyncio in /usr/local/lib/python3.10/dist-packages (from dash) (1.6.0)\n",
            "Requirement already satisfied: setuptools in /usr/local/lib/python3.10/dist-packages (from dash) (67.7.2)\n",
            "Requirement already satisfied: tenacity>=6.2.0 in /usr/local/lib/python3.10/dist-packages (from plotly) (8.4.1)\n",
            "Requirement already satisfied: packaging in /usr/local/lib/python3.10/dist-packages (from plotly) (24.1)\n",
            "Requirement already satisfied: Jinja2>=3.0 in /usr/local/lib/python3.10/dist-packages (from Flask<3.1,>=1.0.4->dash) (3.1.4)\n",
            "Requirement already satisfied: itsdangerous>=2.0 in /usr/local/lib/python3.10/dist-packages (from Flask<3.1,>=1.0.4->dash) (2.2.0)\n",
            "Requirement already satisfied: click>=8.0 in /usr/local/lib/python3.10/dist-packages (from Flask<3.1,>=1.0.4->dash) (8.1.7)\n",
            "Requirement already satisfied: MarkupSafe>=2.1.1 in /usr/local/lib/python3.10/dist-packages (from Werkzeug<3.1->dash) (2.1.5)\n",
            "Requirement already satisfied: zipp>=0.5 in /usr/local/lib/python3.10/dist-packages (from importlib-metadata->dash) (3.19.2)\n",
            "Requirement already satisfied: charset-normalizer<4,>=2 in /usr/local/lib/python3.10/dist-packages (from requests->dash) (3.3.2)\n",
            "Requirement already satisfied: idna<4,>=2.5 in /usr/local/lib/python3.10/dist-packages (from requests->dash) (3.7)\n",
            "Requirement already satisfied: urllib3<3,>=1.21.1 in /usr/local/lib/python3.10/dist-packages (from requests->dash) (2.0.7)\n",
            "Requirement already satisfied: certifi>=2017.4.17 in /usr/local/lib/python3.10/dist-packages (from requests->dash) (2024.6.2)\n",
            "Requirement already satisfied: six>=1.7.0 in /usr/local/lib/python3.10/dist-packages (from retrying->dash) (1.16.0)\n"
          ]
        }
      ],
      "source": [
        "!pip install dash dash-bootstrap-components plotly\n",
        "import pandas as pd\n",
        "import base64\n",
        "from dash import Dash, dcc, html\n",
        "import dash_bootstrap_components as dbc\n",
        "\n",
        "# Create a Dash application\n",
        "app = Dash(__name__, external_stylesheets=[dbc.themes.BOOTSTRAP])"
      ]
    },
    {
      "cell_type": "code",
      "source": [
        "def encode_image(image_file):\n",
        "    with open(image_file, 'rb') as image:\n",
        "        encoded_image = base64.b64encode(image.read()).decode('ascii')\n",
        "    return encoded_image\n"
      ],
      "metadata": {
        "id": "-lyrIjpPROaM"
      },
      "execution_count": 52,
      "outputs": []
    },
    {
      "cell_type": "code",
      "source": [
        "\n",
        "from google.colab import drive\n",
        "import pandas as pd\n",
        "\n",
        "drive.mount('/content/drive/')\n",
        "Sales_Amount = encode_image('/content/drive/My Drive/Colab Notebooks/Amazon Data analysis/Frequency of the Sales Amount.png')\n",
        "\n",
        "\n",
        "Barplot_ship_state = encode_image('/content/drive/My Drive/Colab Notebooks/Amazon Data analysis/Bar Plot of ship-state.png')\n",
        "\n",
        "lineplot_monthly_sale = encode_image('/content/drive/My Drive/Colab Notebooks/Amazon Data analysis/Line Plt for Monthly Sales Trends.png')\n",
        "\n",
        "Top_Selling_Categories = encode_image('/content/drive/My Drive/Colab Notebooks/Amazon Data analysis/Bar Plot of Top Selling Categories.png')\n",
        "Top_Selling_Sizes = encode_image('/content/drive/My Drive/Colab Notebooks/Amazon Data analysis/Bar Plot of Top Selling Sizes.png')\n",
        "Top_Selling_Styles = encode_image('/content/drive/My Drive/Colab Notebooks/Amazon Data analysis/Bar Plot of Top Selling Styles.png')\n",
        "Top_Selling_SKUs = encode_image('/content/drive/My Drive/Colab Notebooks/Amazon Data analysis/Bar Plot of Top Selling SKUs.png')\n",
        "\n",
        "Total_Sales_By_City= encode_image('/content/drive/My Drive/Colab Notebooks/Amazon Data analysis/Bar Plot of Total Sales by City.png')\n",
        "\n",
        "Decision_Tree_Confusion_Matrex= encode_image('/content/drive/My Drive/Colab Notebooks/Amazon Data analysis/Decision Tree Confusion Matrex.png')\n",
        "Random_Forest_Confusion_Matrex= encode_image('/content/drive/My Drive/Colab Notebooks/Amazon Data analysis/Random Forest Confusion Matrex.png')\n"
      ],
      "metadata": {
        "colab": {
          "base_uri": "https://localhost:8080/"
        },
        "id": "YcYLe6HURV-a",
        "outputId": "f819ef67-bff6-4d1b-cbb6-ede5c4b872f3"
      },
      "execution_count": 53,
      "outputs": [
        {
          "output_type": "stream",
          "name": "stdout",
          "text": [
            "Drive already mounted at /content/drive/; to attempt to forcibly remount, call drive.mount(\"/content/drive/\", force_remount=True).\n"
          ]
        }
      ]
    },
    {
      "cell_type": "code",
      "source": [
        "app = Dash(__name__, external_stylesheets=[dbc.themes.BOOTSTRAP])\n",
        "app.layout = dbc.Container([\n",
        "    dbc.Row([\n",
        "        dbc.Col(html.H1(\"Sales Dashboard\"), className=\"mb-2 text-center\")\n",
        "    ]),\n",
        "    dbc.Row([\n",
        "        dbc.Col(html.H5(\"Sales Data Visualizations\"), className=\"mb-4 text-center\")\n",
        "    ]),\n",
        "    dbc.Tabs([\n",
        "        dbc.Tab(label='Histogram', children=[\n",
        "            dbc.Row([\n",
        "                dbc.Col([\n",
        "                    dbc.Card(\n",
        "                        dbc.CardBody([\n",
        "                            html.H6(\"Histogram of Sales Amount\"),\n",
        "                            html.Img(src=f'data:image/png;base64,{Sales_Amount}', style={'width': '100%', 'height': 'auto'})\n",
        "                        ])\n",
        "                    )\n",
        "                ])\n",
        "            ])\n",
        "        ]),\n",
        "        dbc.Tab(label='Bar Plots', children=[\n",
        "            dbc.Row([\n",
        "                dbc.Col([\n",
        "                    dbc.Card(\n",
        "                        dbc.CardBody([\n",
        "                            html.H6(\"Bar Plot of Categories & Ship state\"),\n",
        "                            html.Img(src=f'data:image/png;base64,{Barplot_ship_state}', style={'width': '100%', 'height': 'auto'})\n",
        "                        ])\n",
        "                    )\n",
        "                ])\n",
        "            ])\n",
        "        ]),\n",
        "        dbc.Tab(label='Monthly Sales', children=[\n",
        "            dbc.Row([\n",
        "                dbc.Col([\n",
        "                    dbc.Card(\n",
        "                        dbc.CardBody([\n",
        "                            html.H6(\"Monthly Sales\"),\n",
        "                            html.Img(src=f'data:image/png;base64,{lineplot_monthly_sale}', style={'width': '100%', 'height': 'auto'})\n",
        "                        ])\n",
        "                    )\n",
        "                ])\n",
        "            ])\n",
        "        ]),\n",
        "        dbc.Tab(label='Top Selling', children=[\n",
        "            dbc.Row([\n",
        "                dbc.Col([\n",
        "                    dbc.Card(\n",
        "                        dbc.CardBody([\n",
        "                            html.H6(\"Top Selling Categories\"),\n",
        "                            html.Img(src=f'data:image/png;base64,{Top_Selling_Categories}', style={'width': '100%', 'height': 'auto'})\n",
        "                        ])\n",
        "                    )\n",
        "                ]),\n",
        "                dbc.Col([\n",
        "                    dbc.Card(\n",
        "                        dbc.CardBody([\n",
        "                            html.H6(\"Top Selling Sizes\"),\n",
        "                            html.Img(src=f'data:image/png;base64,{Top_Selling_Sizes}', style={'width': '100%', 'height': 'auto'})\n",
        "                        ])\n",
        "                    )\n",
        "                ])\n",
        "            ]),\n",
        "             dbc.Row([\n",
        "                dbc.Col([\n",
        "                    dbc.Card(\n",
        "                        dbc.CardBody([\n",
        "                            html.H6(\"Top Selling Styless\"),\n",
        "                            html.Img(src=f'data:image/png;base64,{Top_Selling_Styles}', style={'width': '100%', 'height': 'auto'})\n",
        "                        ])\n",
        "                    )\n",
        "                ]),\n",
        "                dbc.Col([\n",
        "                    dbc.Card(\n",
        "                        dbc.CardBody([\n",
        "                            html.H6(\"Top Selling SKUs\"),\n",
        "                            html.Img(src=f'data:image/png;base64,{Top_Selling_SKUs}', style={'width': '100%', 'height': 'auto'})\n",
        "                        ])\n",
        "                    )\n",
        "                ])\n",
        "            ])\n",
        "        ]),\n",
        "         dbc.Tab(label='Confusion Matrix', children=[\n",
        "            dbc.Row([\n",
        "                dbc.Col([\n",
        "                    dbc.Card(\n",
        "                        dbc.CardBody([\n",
        "                            html.H6(\"Decision Tree\"),\n",
        "                            html.Img(src=f'data:image/png;base64,{Decision_Tree_Confusion_Matrex}', style={'width': '100%', 'height': 'auto'})\n",
        "                        ])\n",
        "                    )\n",
        "                ]),\n",
        "                dbc.Col([\n",
        "                    dbc.Card(\n",
        "                        dbc.CardBody([\n",
        "                            html.H6(\"Random Forest\"),\n",
        "                            html.Img(src=f'data:image/png;base64,{Random_Forest_Confusion_Matrex}', style={'width': '100%', 'height': 'auto'})\n",
        "                        ])\n",
        "                    )\n",
        "                ])\n",
        "            ]),\n",
        "\n",
        "    ])\n",
        "    ])\n",
        "])\n",
        "\n",
        "\n",
        "\n",
        "if __name__ == \"__main__\":\n",
        "    app.run_server(debug=True)"
      ],
      "metadata": {
        "colab": {
          "base_uri": "https://localhost:8080/",
          "height": 672
        },
        "id": "PItTG7_ifvrn",
        "outputId": "a9d438fd-7c62-4f52-fe61-660dac8c50ee"
      },
      "execution_count": 54,
      "outputs": [
        {
          "output_type": "display_data",
          "data": {
            "text/plain": [
              "<IPython.core.display.Javascript object>"
            ],
            "application/javascript": [
              "(async (port, path, width, height, cache, element) => {\n",
              "    if (!google.colab.kernel.accessAllowed && !cache) {\n",
              "      return;\n",
              "    }\n",
              "    element.appendChild(document.createTextNode(''));\n",
              "    const url = await google.colab.kernel.proxyPort(port, {cache});\n",
              "    const iframe = document.createElement('iframe');\n",
              "    iframe.src = new URL(path, url).toString();\n",
              "    iframe.height = height;\n",
              "    iframe.width = width;\n",
              "    iframe.style.border = 0;\n",
              "    iframe.allow = [\n",
              "        'accelerometer',\n",
              "        'autoplay',\n",
              "        'camera',\n",
              "        'clipboard-read',\n",
              "        'clipboard-write',\n",
              "        'gyroscope',\n",
              "        'magnetometer',\n",
              "        'microphone',\n",
              "        'serial',\n",
              "        'usb',\n",
              "        'xr-spatial-tracking',\n",
              "    ].join('; ');\n",
              "    element.appendChild(iframe);\n",
              "  })(8050, \"/\", \"100%\", 650, false, window.element)"
            ]
          },
          "metadata": {}
        }
      ]
    }
  ]
}